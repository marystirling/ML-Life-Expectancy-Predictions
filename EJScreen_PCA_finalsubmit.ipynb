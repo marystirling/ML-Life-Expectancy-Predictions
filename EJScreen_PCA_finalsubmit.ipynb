{
 "cells": [
  {
   "cell_type": "code",
   "execution_count": 1,
   "id": "413d6ce7",
   "metadata": {},
   "outputs": [],
   "source": [
    "import matplotlib.pyplot as plt\n",
    "import matplotlib\n",
    "import numpy as np\n",
    "import scipy as sc\n",
    "import random\n",
    "import sklearn.datasets \n",
    "import time\n",
    "import pandas as pd\n",
    "import seaborn as sns\n",
    "import pickle as pkl\n",
    "import sklearn\n",
    "from sklearn.decomposition import PCA"
   ]
  },
  {
   "cell_type": "code",
   "execution_count": 2,
   "id": "2cc29687",
   "metadata": {},
   "outputs": [],
   "source": [
    "'''\n",
    "Partitions a dataset into a training set and a test set (80/20 split, respectively). \n",
    "Shuffles dataset before splitting. \n",
    "@param x - data inputs (numpy.ndarray)\n",
    "       y - data targets (numpy.ndarray)\n",
    "@return training set inputs, \n",
    "        training set targets, \n",
    "        test set inputs,\n",
    "        test set targets (all numpy.ndarray)\n",
    "'''\n",
    "def split_train_test(x, y):\n",
    "    xy = list(zip(x, y))\n",
    "    random.shuffle(xy)\n",
    "    x, y = zip(*xy)\n",
    "    \n",
    "    split = int(len(x)*0.8)\n",
    "    train_x = np.array(x[:split])\n",
    "    train_y = np.array(y[:split])\n",
    "    test_x = np.array(x[split:])\n",
    "    test_y = np.array(y[split:])\n",
    "    \n",
    "    train_y = np.reshape(train_y, (len(train_y),1))\n",
    "    test_y = np.reshape(test_y, (len(test_y),1))\n",
    "    \n",
    "    return train_x, train_y, test_x, test_y"
   ]
  },
  {
   "cell_type": "code",
   "execution_count": 3,
   "id": "be66acfd",
   "metadata": {},
   "outputs": [],
   "source": [
    "# importing new nan cleaned dataset:\n",
    "with open('ejle_nonan_df.pkl', 'rb') as file:\n",
    "    rawdata = pkl.load(file)"
   ]
  },
  {
   "cell_type": "code",
   "execution_count": 4,
   "id": "c4e23513",
   "metadata": {},
   "outputs": [
    {
     "name": "stdout",
     "output_type": "stream",
     "text": [
      "EJSLE_mnmdstdv.pkl              EJScreen_dataprep_demoend.ipynb\r\n",
      "EJSLE_mnmdstdv_demoend.pkl      Feature_Selection.ipynb\r\n",
      "EJS_mnmdstdv.pkl                countyfixtest.txt\r\n",
      "EJScreen_PCA_FFNeuralNet.ipynb  ejcounty.txt\r\n",
      "EJScreen_PCA_finalsubmit.ipynb  ejle_nonan_df.pkl\r\n",
      "EJScreen_dataprep.ipynb         tstmean.txt\r\n"
     ]
    }
   ],
   "source": [
    "!ls "
   ]
  },
  {
   "cell_type": "code",
   "execution_count": 5,
   "id": "fc812747",
   "metadata": {},
   "outputs": [],
   "source": [
    "# importing no demographic data:\n",
    "with open('EJSLE_mnmdstdv_demoend.pkl', 'rb') as file:\n",
    "    rawdata_env = pkl.load(file)"
   ]
  },
  {
   "cell_type": "code",
   "execution_count": 6,
   "id": "9799678d",
   "metadata": {},
   "outputs": [
    {
     "data": {
      "text/plain": [
       "Index(['STATE_NAME', 'ST_ABBREV', 'CNTY_NAME', 'REGION_MEAN', 'ACSTOTPOP_MEAN',\n",
       "       'VULEOPCT_MEAN', 'MINORPCT_MEAN', 'LOWINCPCT_MEAN', 'UNEMPPCT_MEAN',\n",
       "       'LINGISOPCT_MEAN',\n",
       "       ...\n",
       "       'P_RESP_D2_STDV', 'P_PTRAF_D2_STDV', 'P_LDPNT_D2_STDV',\n",
       "       'P_PNPL_D2_STDV', 'P_PRMP_D2_STDV', 'P_PTSDF_D2_STDV', 'P_UST_D2_STDV',\n",
       "       'P_PWDIS_D2_STDV', 'LE_MEAN', 'LE_MEDI'],\n",
       "      dtype='object', length=203)"
      ]
     },
     "execution_count": 6,
     "metadata": {},
     "output_type": "execute_result"
    }
   ],
   "source": [
    "rawdata.columns\n"
   ]
  },
  {
   "cell_type": "code",
   "execution_count": 7,
   "id": "e9a48a71",
   "metadata": {},
   "outputs": [
    {
     "data": {
      "text/plain": [
       "Index(['STATE_NAME', 'ST_ABBREV', 'CNTY_NAME', 'PM25_MEAN', 'OZONE_MEAN',\n",
       "       'DSLPM_MEAN', 'CANCER_MEAN', 'RESP_MEAN', 'PTRAF_MEAN',\n",
       "       'PRE1960PCT_MEAN',\n",
       "       ...\n",
       "       'P_VULEOPCT_STDV', 'P_MINORPCT_STDV', 'P_LWINCPCT_STDV',\n",
       "       'P_UNEMPPCT_STDV', 'P_LNGISPCT_STDV', 'P_LESHSPCT_STDV',\n",
       "       'P_UNDR5PCT_STDV', 'P_OVR64PCT_STDV', 'LE_MEAN', 'LE_MEDI'],\n",
       "      dtype='object', length=203)"
      ]
     },
     "execution_count": 7,
     "metadata": {},
     "output_type": "execute_result"
    }
   ],
   "source": [
    "rawdata_env.columns"
   ]
  },
  {
   "cell_type": "code",
   "execution_count": 8,
   "id": "a4b53c55",
   "metadata": {},
   "outputs": [],
   "source": [
    "# separating features from targets\n",
    "data = rawdata.iloc[:,:-2]\n",
    "lemean = rawdata.iloc[:,-2]\n",
    "lemedi = rawdata.iloc[:,-1]\n",
    "\n",
    "# ENVIRONMENTAL:\n",
    "datae = rawdata_env.iloc[:,:147]\n",
    "lemeane = rawdata_env.iloc[:,-2]\n",
    "lemedie = rawdata_env.iloc[:,-1]"
   ]
  },
  {
   "cell_type": "code",
   "execution_count": 9,
   "id": "e69f8ea8",
   "metadata": {},
   "outputs": [],
   "source": [
    "# convert to ndarray\n",
    "data_nd = data.to_numpy()\n",
    "lemean_nd = lemean.to_numpy()\n",
    "lemedi_nd = lemedi.to_numpy()\n",
    "datae_nd = datae.to_numpy()\n",
    "lemeane_nd = lemeane.to_numpy()\n",
    "lemedie_nd = lemedie.to_numpy()"
   ]
  },
  {
   "cell_type": "code",
   "execution_count": 10,
   "id": "3df0e2c3",
   "metadata": {},
   "outputs": [],
   "source": [
    "# mean split train test + randomize\n",
    "train_xme, train_yme, test_xme, test_yme = split_train_test(data_nd, lemean_nd)\n",
    "\n",
    "# median split train test + randomize\n",
    "train_xmd, train_ymd, test_xmd, test_ymd = split_train_test(data_nd, lemedi_nd)\n",
    "\n",
    "# mean env split train test + randomize\n",
    "traine_xme, traine_yme, teste_xme, teste_yme = split_train_test(datae_nd, lemeane_nd)\n",
    "\n",
    "# median env split train test + randomize\n",
    "traine_xmd, traine_ymd, teste_xmd, teste_ymd = split_train_test(datae_nd, lemedie_nd)\n"
   ]
  },
  {
   "cell_type": "markdown",
   "id": "8352ccc4",
   "metadata": {},
   "source": [
    "# PCA on EJ data "
   ]
  },
  {
   "cell_type": "code",
   "execution_count": 11,
   "id": "3858afdd",
   "metadata": {},
   "outputs": [],
   "source": [
    "# from assignment 2\n",
    "def zscore_test(test, train, one=False):\n",
    "    '''Function for normalizing training and test datasets using statistics of training set\n",
    "    \n",
    "    normalized = (raw - mean) / stddev\n",
    "    \n",
    "    Parameters:\n",
    "        test: test dataset (ndarray)\n",
    "        train: training dataset (ndarray)\n",
    "    Returns:\n",
    "        testz: test dataset normalized by training set statistics\n",
    "        trainz: training dataset normalized'''\n",
    "    \n",
    "    print('Make sure training + test data do not have first column of ones')\n",
    "    # calculating the mean and stddev for each column in trainz\n",
    "    # will apply these to test array in another calculation for new\n",
    "    # zscore\n",
    "    musigma = np.zeros((2, train.shape[1]))\n",
    "    musigma[0] = np.mean(train.astype(float), axis=0) # Get mean + stddev for train\n",
    "    musigma[1] = np.std(train.astype(float), axis=0)\n",
    "    trainz = np.zeros_like(train)\n",
    "    testz = np.zeros_like(test)\n",
    "    for i in range(musigma.shape[1]):\n",
    "        trainz[:, i] = (train[:, i] - musigma[0, i]) / musigma[1,i]\n",
    "        testz[:, i] = (test[:, i] - musigma[0,i]) / musigma[1,i] # calculate zscores\n",
    "    if one:\n",
    "        train_ones = np.ones((trainz.shape[0],1)) # add ones columns back\n",
    "        test_ones = np.ones((testz.shape[0],1))\n",
    "        trainz = np.hstack((train_ones, trainz)) \n",
    "        testz = np.hstack((test_ones, testz)) \n",
    "    return testz, trainz"
   ]
  },
  {
   "cell_type": "code",
   "execution_count": 12,
   "id": "7a16b235",
   "metadata": {},
   "outputs": [
    {
     "name": "stdout",
     "output_type": "stream",
     "text": [
      "Make sure training + test data do not have first column of ones\n",
      "Make sure training + test data do not have first column of ones\n",
      "Make sure training + test data do not have first column of ones\n",
      "Make sure training + test data do not have first column of ones\n"
     ]
    }
   ],
   "source": [
    "# normalize excluding county/state names\n",
    "test_xmez, train_xmez = zscore_test(test_xme[:, 3:], train_xme[:, 3:])\n",
    "test_xmdz, train_xmdz = zscore_test(test_xmd[:, 3:], train_xmd[:, 3:])\n",
    "\n",
    "teste_xmez, traine_xmez = zscore_test(teste_xme[:, 3:], traine_xme[:, 3:])\n",
    "teste_xmdz, traine_xmdz = zscore_test(teste_xmd[:, 3:], traine_xmd[:, 3:])"
   ]
  },
  {
   "cell_type": "code",
   "execution_count": 13,
   "id": "3853b30e",
   "metadata": {},
   "outputs": [],
   "source": [
    "# mean pca\n",
    "pc_me = PCA()\n",
    "# medi pca\n",
    "pc_md = PCA()\n",
    "\n",
    "# mean pca environmental\n",
    "pce_me = PCA()\n",
    "# medi pca environmental\n",
    "pce_md = PCA()"
   ]
  },
  {
   "cell_type": "code",
   "execution_count": 14,
   "id": "4db4c69e",
   "metadata": {},
   "outputs": [
    {
     "data": {
      "text/html": [
       "<style>#sk-container-id-1 {color: black;background-color: white;}#sk-container-id-1 pre{padding: 0;}#sk-container-id-1 div.sk-toggleable {background-color: white;}#sk-container-id-1 label.sk-toggleable__label {cursor: pointer;display: block;width: 100%;margin-bottom: 0;padding: 0.3em;box-sizing: border-box;text-align: center;}#sk-container-id-1 label.sk-toggleable__label-arrow:before {content: \"▸\";float: left;margin-right: 0.25em;color: #696969;}#sk-container-id-1 label.sk-toggleable__label-arrow:hover:before {color: black;}#sk-container-id-1 div.sk-estimator:hover label.sk-toggleable__label-arrow:before {color: black;}#sk-container-id-1 div.sk-toggleable__content {max-height: 0;max-width: 0;overflow: hidden;text-align: left;background-color: #f0f8ff;}#sk-container-id-1 div.sk-toggleable__content pre {margin: 0.2em;color: black;border-radius: 0.25em;background-color: #f0f8ff;}#sk-container-id-1 input.sk-toggleable__control:checked~div.sk-toggleable__content {max-height: 200px;max-width: 100%;overflow: auto;}#sk-container-id-1 input.sk-toggleable__control:checked~label.sk-toggleable__label-arrow:before {content: \"▾\";}#sk-container-id-1 div.sk-estimator input.sk-toggleable__control:checked~label.sk-toggleable__label {background-color: #d4ebff;}#sk-container-id-1 div.sk-label input.sk-toggleable__control:checked~label.sk-toggleable__label {background-color: #d4ebff;}#sk-container-id-1 input.sk-hidden--visually {border: 0;clip: rect(1px 1px 1px 1px);clip: rect(1px, 1px, 1px, 1px);height: 1px;margin: -1px;overflow: hidden;padding: 0;position: absolute;width: 1px;}#sk-container-id-1 div.sk-estimator {font-family: monospace;background-color: #f0f8ff;border: 1px dotted black;border-radius: 0.25em;box-sizing: border-box;margin-bottom: 0.5em;}#sk-container-id-1 div.sk-estimator:hover {background-color: #d4ebff;}#sk-container-id-1 div.sk-parallel-item::after {content: \"\";width: 100%;border-bottom: 1px solid gray;flex-grow: 1;}#sk-container-id-1 div.sk-label:hover label.sk-toggleable__label {background-color: #d4ebff;}#sk-container-id-1 div.sk-serial::before {content: \"\";position: absolute;border-left: 1px solid gray;box-sizing: border-box;top: 0;bottom: 0;left: 50%;z-index: 0;}#sk-container-id-1 div.sk-serial {display: flex;flex-direction: column;align-items: center;background-color: white;padding-right: 0.2em;padding-left: 0.2em;position: relative;}#sk-container-id-1 div.sk-item {position: relative;z-index: 1;}#sk-container-id-1 div.sk-parallel {display: flex;align-items: stretch;justify-content: center;background-color: white;position: relative;}#sk-container-id-1 div.sk-item::before, #sk-container-id-1 div.sk-parallel-item::before {content: \"\";position: absolute;border-left: 1px solid gray;box-sizing: border-box;top: 0;bottom: 0;left: 50%;z-index: -1;}#sk-container-id-1 div.sk-parallel-item {display: flex;flex-direction: column;z-index: 1;position: relative;background-color: white;}#sk-container-id-1 div.sk-parallel-item:first-child::after {align-self: flex-end;width: 50%;}#sk-container-id-1 div.sk-parallel-item:last-child::after {align-self: flex-start;width: 50%;}#sk-container-id-1 div.sk-parallel-item:only-child::after {width: 0;}#sk-container-id-1 div.sk-dashed-wrapped {border: 1px dashed gray;margin: 0 0.4em 0.5em 0.4em;box-sizing: border-box;padding-bottom: 0.4em;background-color: white;}#sk-container-id-1 div.sk-label label {font-family: monospace;font-weight: bold;display: inline-block;line-height: 1.2em;}#sk-container-id-1 div.sk-label-container {text-align: center;}#sk-container-id-1 div.sk-container {/* jupyter's `normalize.less` sets `[hidden] { display: none; }` but bootstrap.min.css set `[hidden] { display: none !important; }` so we also need the `!important` here to be able to override the default hidden behavior on the sphinx rendered scikit-learn.org. See: https://github.com/scikit-learn/scikit-learn/issues/21755 */display: inline-block !important;position: relative;}#sk-container-id-1 div.sk-text-repr-fallback {display: none;}</style><div id=\"sk-container-id-1\" class=\"sk-top-container\"><div class=\"sk-text-repr-fallback\"><pre>PCA()</pre><b>In a Jupyter environment, please rerun this cell to show the HTML representation or trust the notebook. <br />On GitHub, the HTML representation is unable to render, please try loading this page with nbviewer.org.</b></div><div class=\"sk-container\" hidden><div class=\"sk-item\"><div class=\"sk-estimator sk-toggleable\"><input class=\"sk-toggleable__control sk-hidden--visually\" id=\"sk-estimator-id-1\" type=\"checkbox\" checked><label for=\"sk-estimator-id-1\" class=\"sk-toggleable__label sk-toggleable__label-arrow\">PCA</label><div class=\"sk-toggleable__content\"><pre>PCA()</pre></div></div></div></div></div>"
      ],
      "text/plain": [
       "PCA()"
      ]
     },
     "execution_count": 14,
     "metadata": {},
     "output_type": "execute_result"
    }
   ],
   "source": [
    "# pca fit on training mean dset excluding state/county names\n",
    "pc_me.fit(train_xmez)\n",
    "# on median dset\n",
    "pc_md.fit(train_xmdz)\n",
    "\n",
    "# ENVIRONMENTAL:\n",
    "# pca fit on training mean dset excluding state/county names\n",
    "pce_me.fit(traine_xmez)\n",
    "# on median dset\n",
    "pce_md.fit(traine_xmdz)"
   ]
  },
  {
   "cell_type": "code",
   "execution_count": 15,
   "id": "8d39b4b7",
   "metadata": {},
   "outputs": [],
   "source": [
    "# cumulatively summing explained variance\n",
    "cumvarme = np.cumsum(pc_me.explained_variance_ratio_)\n",
    "cumvarmd = np.cumsum(pc_md.explained_variance_ratio_)\n",
    "\n",
    "# ENVIRONMENTAL\n",
    "# cumulatively summing explained variance\n",
    "cumvareme = np.cumsum(pce_me.explained_variance_ratio_)\n",
    "cumvaremd = np.cumsum(pce_md.explained_variance_ratio_)"
   ]
  },
  {
   "cell_type": "code",
   "execution_count": 16,
   "id": "4b8c7702",
   "metadata": {},
   "outputs": [
    {
     "name": "stdout",
     "output_type": "stream",
     "text": [
      "(array([ 54,  55,  56,  57,  58,  59,  60,  61,  62,  63,  64,  65,  66,\n",
      "        67,  68,  69,  70,  71,  72,  73,  74,  75,  76,  77,  78,  79,\n",
      "        80,  81,  82,  83,  84,  85,  86,  87,  88,  89,  90,  91,  92,\n",
      "        93,  94,  95,  96,  97,  98,  99, 100, 101, 102, 103, 104, 105,\n",
      "       106, 107, 108, 109, 110, 111, 112, 113, 114, 115, 116, 117, 118,\n",
      "       119, 120, 121, 122, 123, 124, 125, 126, 127, 128, 129, 130, 131,\n",
      "       132, 133, 134, 135, 136, 137, 138, 139, 140, 141, 142, 143, 144,\n",
      "       145, 146, 147, 148, 149, 150, 151, 152, 153, 154, 155, 156, 157,\n",
      "       158, 159, 160, 161, 162, 163, 164, 165, 166, 167, 168, 169, 170,\n",
      "       171, 172, 173, 174, 175, 176, 177, 178, 179, 180, 181, 182, 183,\n",
      "       184, 185, 186, 187, 188, 189, 190, 191, 192, 193, 194, 195, 196,\n",
      "       197]),)\n",
      "(array([ 53,  54,  55,  56,  57,  58,  59,  60,  61,  62,  63,  64,  65,\n",
      "        66,  67,  68,  69,  70,  71,  72,  73,  74,  75,  76,  77,  78,\n",
      "        79,  80,  81,  82,  83,  84,  85,  86,  87,  88,  89,  90,  91,\n",
      "        92,  93,  94,  95,  96,  97,  98,  99, 100, 101, 102, 103, 104,\n",
      "       105, 106, 107, 108, 109, 110, 111, 112, 113, 114, 115, 116, 117,\n",
      "       118, 119, 120, 121, 122, 123, 124, 125, 126, 127, 128, 129, 130,\n",
      "       131, 132, 133, 134, 135, 136, 137, 138, 139, 140, 141, 142, 143,\n",
      "       144, 145, 146, 147, 148, 149, 150, 151, 152, 153, 154, 155, 156,\n",
      "       157, 158, 159, 160, 161, 162, 163, 164, 165, 166, 167, 168, 169,\n",
      "       170, 171, 172, 173, 174, 175, 176, 177, 178, 179, 180, 181, 182,\n",
      "       183, 184, 185, 186, 187, 188, 189, 190, 191, 192, 193, 194, 195,\n",
      "       196, 197]),)\n",
      "(array([ 37,  38,  39,  40,  41,  42,  43,  44,  45,  46,  47,  48,  49,\n",
      "        50,  51,  52,  53,  54,  55,  56,  57,  58,  59,  60,  61,  62,\n",
      "        63,  64,  65,  66,  67,  68,  69,  70,  71,  72,  73,  74,  75,\n",
      "        76,  77,  78,  79,  80,  81,  82,  83,  84,  85,  86,  87,  88,\n",
      "        89,  90,  91,  92,  93,  94,  95,  96,  97,  98,  99, 100, 101,\n",
      "       102, 103, 104, 105, 106, 107, 108, 109, 110, 111, 112, 113, 114,\n",
      "       115, 116, 117, 118, 119, 120, 121, 122, 123, 124, 125, 126, 127,\n",
      "       128, 129, 130, 131, 132, 133, 134, 135, 136, 137, 138, 139, 140,\n",
      "       141, 142, 143]),)\n",
      "(array([ 37,  38,  39,  40,  41,  42,  43,  44,  45,  46,  47,  48,  49,\n",
      "        50,  51,  52,  53,  54,  55,  56,  57,  58,  59,  60,  61,  62,\n",
      "        63,  64,  65,  66,  67,  68,  69,  70,  71,  72,  73,  74,  75,\n",
      "        76,  77,  78,  79,  80,  81,  82,  83,  84,  85,  86,  87,  88,\n",
      "        89,  90,  91,  92,  93,  94,  95,  96,  97,  98,  99, 100, 101,\n",
      "       102, 103, 104, 105, 106, 107, 108, 109, 110, 111, 112, 113, 114,\n",
      "       115, 116, 117, 118, 119, 120, 121, 122, 123, 124, 125, 126, 127,\n",
      "       128, 129, 130, 131, 132, 133, 134, 135, 136, 137, 138, 139, 140,\n",
      "       141, 142, 143]),)\n"
     ]
    }
   ],
   "source": [
    "print(np.where(cumvarme>0.95))\n",
    "print(np.where(cumvarmd>0.95))\n",
    "\n",
    "print(np.where(cumvareme>0.95))\n",
    "print(np.where(cumvaremd>0.95))"
   ]
  },
  {
   "cell_type": "markdown",
   "id": "26182509",
   "metadata": {},
   "source": [
    "* Plotting cumulative explained variance vs PCs"
   ]
  },
  {
   "cell_type": "code",
   "execution_count": 17,
   "id": "87b17fd8",
   "metadata": {},
   "outputs": [
    {
     "data": {
      "text/plain": [
       "Text(0.5, 1.0, 'Explained Variance to Principal Components')"
      ]
     },
     "execution_count": 17,
     "metadata": {},
     "output_type": "execute_result"
    },
    {
     "data": {
      "image/png": "[encoded data removed]",
      "text/plain": [
       "<Figure size 640x480 with 1 Axes>"
      ]
     },
     "metadata": {},
     "output_type": "display_data"
    }
   ],
   "source": [
    "numpcs = 60\n",
    "domain = range(1,numpcs+1)\n",
    "fig0, ax0 = plt.subplots()\n",
    "\n",
    "ax0.scatter(list(domain), cumvarme[:domain[-1]]*100, c='C0', marker='.', label='ENVI')\n",
    "ax0.scatter(list(domain), cumvareme[:domain[-1]]*100, c='C1', marker='.', label='DEMO')\n",
    "\n",
    "#ax0.scatter(list(domain), cumvarmd[:domain[-1]]*100, c='b', marker='.', label='L.E. median')\n",
    "ax0.hlines(y=95, xmin=1, xmax=numpcs, linestyles='dotted', colors='k')\n",
    "ax0.vlines(x=55, ymin=1, ymax=100, linestyles='dotted', colors='k')\n",
    "ax0.vlines(x=39, ymin=1, ymax=100, linestyles='dotted', colors='k')\n",
    "\n",
    "ax0.legend(loc=3)\n",
    "ax0.set_xlabel('Number of Principal Components')\n",
    "ax0.set_ylabel('Percentage of Explained Variance')\n",
    "ax0.set_title('Explained Variance to Principal Components')"
   ]
  },
  {
   "cell_type": "code",
   "execution_count": null,
   "id": "fdaee99f",
   "metadata": {},
   "outputs": [],
   "source": []
  }
 ],
 "metadata": {
  "kernelspec": {
   "display_name": "Python 3 (ipykernel)",
   "language": "python",
   "name": "python3"
  },
  "language_info": {
   "codemirror_mode": {
    "name": "ipython",
    "version": 3
   },
   "file_extension": ".py",
   "mimetype": "text/x-python",
   "name": "python",
   "nbconvert_exporter": "python",
   "pygments_lexer": "ipython3",
   "version": "3.8.15"
  }
 },
 "nbformat": 4,
 "nbformat_minor": 5
}
